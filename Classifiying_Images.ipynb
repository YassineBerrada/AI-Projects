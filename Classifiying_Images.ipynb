{
 "cells": [
  {
   "cell_type": "markdown",
   "metadata": {
    "id": "1e5bdfa8-6014-495e-af4c-1905a13cf122"
   },
   "source": [
    "<h1><h1>Pre-trained-Models with PyTorch </h1>\n"
   ]
  },
  {
   "cell_type": "markdown",
   "metadata": {
    "id": "53741054-55b8-4d99-9976-6032dbb90087"
   },
   "source": [
    "In this notebook, we will use pre-trained models to classify between the negative and positive samples; we will be provided with the dataset object. The particular pre-trained model will be resnet18."
   ]
  },
  {
   "cell_type": "markdown",
   "metadata": {
    "id": "ba3c08cf-34b0-406d-8125-0593277f34bc"
   },
   "source": [
    "<h2>Table of Contents</h2>\n"
   ]
  },
  {
   "cell_type": "markdown",
   "metadata": {
    "id": "921f07a2-6a2d-4608-84f2-0cc62bf2501b"
   },
   "source": [
    "<div class=\"alert alert-block alert-info\" style=\"margin-top: 20px\">\n",
    "\n",
    "\n",
    "<ul>\n",
    "    <li><a href=\"#download_data\"> Download Data</a></li>\n",
    "    <li><a href=\"#auxiliary\"> Imports and Auxiliary Functions </a></li>\n",
    "    <li><a href=\"#data_class\"> Dataset Class</a></li>\n",
    "    <li><a href=\"#Part_&\">Part 1</a></li>\n",
    "    <li><a href=\"#Part_2\">Part 2</a></li>\n",
    "    <li><a href=\"#Part3\">Part 3</a></li>\n",
    "</ul>\n",
    "<hr>\n"
   ]
  },
  {
   "cell_type": "markdown",
   "metadata": {
    "id": "5ceb7083-02ed-4c9c-b5b4-7b0418388a2a"
   },
   "source": [
    "<h2 id=\"download_data\">Download Data</h2>\n"
   ]
  },
  {
   "cell_type": "markdown",
   "metadata": {
    "id": "efedf9be-c643-4d62-8158-0918061c6b8b"
   },
   "source": [
    "Download the dataset and unzip the files in our data directory, unlike the other labs, all the data will be deleted after we close  the lab, this may take some time:\n"
   ]
  },
  {
   "cell_type": "code",
   "execution_count": null,
   "metadata": {
    "colab": {
     "base_uri": "https://localhost:8080/"
    },
    "executionInfo": {
     "elapsed": 90876,
     "status": "ok",
     "timestamp": 1725558898949,
     "user": {
      "displayName": "Yassine Berrada",
      "userId": "14041191240360053106"
     },
     "user_tz": -60
    },
    "id": "f119a703-4c0b-40c8-9ca9-152a26a98210",
    "outputId": "3756abe3-8a62-4e4d-acb7-df4cf0cb8377"
   },
   "outputs": [
    {
     "name": "stdout",
     "output_type": "stream",
     "text": [
      "--2024-09-05 17:53:28--  https://s3-api.us-geo.objectstorage.softlayer.net/cf-courses-data/CognitiveClass/DL0321EN/data/images/Positive_tensors.zip\n",
      "Resolving s3-api.us-geo.objectstorage.softlayer.net (s3-api.us-geo.objectstorage.softlayer.net)... 67.228.254.196\n",
      "Connecting to s3-api.us-geo.objectstorage.softlayer.net (s3-api.us-geo.objectstorage.softlayer.net)|67.228.254.196|:443... connected.\n",
      "HTTP request sent, awaiting response... 200 OK\n",
      "Length: 2598656062 (2.4G) [application/zip]\n",
      "Saving to: ‘Positive_tensors.zip’\n",
      "\n",
      "Positive_tensors.zi 100%[===================>]   2.42G  28.5MB/s    in 90s     \n",
      "\n",
      "2024-09-05 17:54:58 (27.6 MB/s) - ‘Positive_tensors.zip’ saved [2598656062/2598656062]\n",
      "\n"
     ]
    }
   ],
   "source": [
    "!wget https://s3-api.us-geo.objectstorage.softlayer.net/cf-courses-data/CognitiveClass/DL0321EN/data/images/Positive_tensors.zip"
   ]
  },
  {
   "cell_type": "code",
   "execution_count": null,
   "metadata": {
    "id": "e3f2804b-7bc0-4a34-a8bd-0756372003da"
   },
   "outputs": [],
   "source": [
    "!unzip -q Positive_tensors.zip"
   ]
  },
  {
   "cell_type": "code",
   "execution_count": null,
   "metadata": {
    "colab": {
     "base_uri": "https://localhost:8080/"
    },
    "executionInfo": {
     "elapsed": 221603,
     "status": "ok",
     "timestamp": 1725559268210,
     "user": {
      "displayName": "Yassine Berrada",
      "userId": "14041191240360053106"
     },
     "user_tz": -60
    },
    "id": "e5119dc8-afc5-460d-879a-8b774f567bd0",
    "outputId": "73ca27e1-1ac1-4863-df13-f1bf4f1afc64"
   },
   "outputs": [
    {
     "name": "stdout",
     "output_type": "stream",
     "text": [
      "--2024-09-05 17:57:26--  https://s3-api.us-geo.objectstorage.softlayer.net/cf-courses-data/CognitiveClass/DL0321EN/data/images/Negative_tensors.zip\n",
      "Resolving s3-api.us-geo.objectstorage.softlayer.net (s3-api.us-geo.objectstorage.softlayer.net)... 67.228.254.196\n",
      "Connecting to s3-api.us-geo.objectstorage.softlayer.net (s3-api.us-geo.objectstorage.softlayer.net)|67.228.254.196|:443... connected.\n",
      "HTTP request sent, awaiting response... 200 OK\n",
      "Length: 2111408108 (2.0G) [application/zip]\n",
      "Saving to: ‘Negative_tensors.zip’\n",
      "\n",
      "Negative_tensors.zi 100%[===================>]   1.97G  25.8MB/s    in 79s     \n",
      "\n",
      "2024-09-05 17:58:45 (25.4 MB/s) - ‘Negative_tensors.zip’ saved [2111408108/2111408108]\n",
      "\n"
     ]
    }
   ],
   "source": [
    "! wget https://s3-api.us-geo.objectstorage.softlayer.net/cf-courses-data/CognitiveClass/DL0321EN/data/images/Negative_tensors.zip\n",
    "!unzip -q Negative_tensors.zip"
   ]
  },
  {
   "cell_type": "markdown",
   "metadata": {
    "id": "fad15709-e387-40fd-ab2f-8fde44dea3e1"
   },
   "source": [
    "We will install torchvision:\n"
   ]
  },
  {
   "cell_type": "code",
   "execution_count": null,
   "metadata": {
    "colab": {
     "base_uri": "https://localhost:8080/"
    },
    "executionInfo": {
     "elapsed": 7914,
     "status": "ok",
     "timestamp": 1725559276107,
     "user": {
      "displayName": "Yassine Berrada",
      "userId": "14041191240360053106"
     },
     "user_tz": -60
    },
    "id": "6a4397a6-b3f6-4b0e-b9f9-c0e294eede06",
    "outputId": "25406e6a-6a5a-449a-cef8-b27c30bf02f1"
   },
   "outputs": [
    {
     "name": "stdout",
     "output_type": "stream",
     "text": [
      "Requirement already satisfied: torchvision in /usr/local/lib/python3.10/dist-packages (0.19.0+cu121)\n",
      "Requirement already satisfied: numpy in /usr/local/lib/python3.10/dist-packages (from torchvision) (1.26.4)\n",
      "Requirement already satisfied: torch==2.4.0 in /usr/local/lib/python3.10/dist-packages (from torchvision) (2.4.0+cu121)\n",
      "Requirement already satisfied: pillow!=8.3.*,>=5.3.0 in /usr/local/lib/python3.10/dist-packages (from torchvision) (9.4.0)\n",
      "Requirement already satisfied: filelock in /usr/local/lib/python3.10/dist-packages (from torch==2.4.0->torchvision) (3.15.4)\n",
      "Requirement already satisfied: typing-extensions>=4.8.0 in /usr/local/lib/python3.10/dist-packages (from torch==2.4.0->torchvision) (4.12.2)\n",
      "Requirement already satisfied: sympy in /usr/local/lib/python3.10/dist-packages (from torch==2.4.0->torchvision) (1.13.2)\n",
      "Requirement already satisfied: networkx in /usr/local/lib/python3.10/dist-packages (from torch==2.4.0->torchvision) (3.3)\n",
      "Requirement already satisfied: jinja2 in /usr/local/lib/python3.10/dist-packages (from torch==2.4.0->torchvision) (3.1.4)\n",
      "Requirement already satisfied: fsspec in /usr/local/lib/python3.10/dist-packages (from torch==2.4.0->torchvision) (2024.6.1)\n",
      "Requirement already satisfied: MarkupSafe>=2.0 in /usr/local/lib/python3.10/dist-packages (from jinja2->torch==2.4.0->torchvision) (2.1.5)\n",
      "Requirement already satisfied: mpmath<1.4,>=1.1.0 in /usr/local/lib/python3.10/dist-packages (from sympy->torch==2.4.0->torchvision) (1.3.0)\n"
     ]
    }
   ],
   "source": [
    "!pip install torchvision"
   ]
  },
  {
   "cell_type": "markdown",
   "metadata": {
    "id": "720b2e1a-fa06-4daf-a922-4a70777f6709"
   },
   "source": [
    "<h2 id=\"auxiliary\">Imports and Auxiliary Functions</h2>\n"
   ]
  },
  {
   "cell_type": "markdown",
   "metadata": {
    "id": "3cadbf87-12b4-4cf5-973b-d074375b21f7"
   },
   "source": [
    "The following are the libraries we are going to use for this lab. The <code>torch.manual_seed()</code> is for forcing the random function to give the same number every time we try to recompile it.\n"
   ]
  },
  {
   "cell_type": "code",
   "execution_count": null,
   "metadata": {
    "colab": {
     "base_uri": "https://localhost:8080/"
    },
    "executionInfo": {
     "elapsed": 11206,
     "status": "ok",
     "timestamp": 1725559287300,
     "user": {
      "displayName": "Yassine Berrada",
      "userId": "14041191240360053106"
     },
     "user_tz": -60
    },
    "id": "100c4913-0f97-425c-bf42-eba819ed5f7f",
    "outputId": "6c263eec-7235-4ae1-a3f4-fbcded154ea3"
   },
   "outputs": [
    {
     "data": {
      "text/plain": [
       "<torch._C.Generator at 0x7ed7c8b314d0>"
      ]
     },
     "execution_count": 6,
     "metadata": {},
     "output_type": "execute_result"
    }
   ],
   "source": [
    "# These are the libraries will be used for this lab.\n",
    "import torchvision.models as models\n",
    "from PIL import Image\n",
    "import pandas\n",
    "from torchvision import transforms\n",
    "import torch.nn as nn\n",
    "import time\n",
    "import torch\n",
    "import matplotlib.pylab as plt\n",
    "import numpy as np\n",
    "from torch.utils.data import Dataset, DataLoader\n",
    "import h5py\n",
    "import os\n",
    "import glob\n",
    "torch.manual_seed(0)"
   ]
  },
  {
   "cell_type": "code",
   "execution_count": null,
   "metadata": {
    "id": "62927ada-7de8-485c-a08e-cb2b038b25d6"
   },
   "outputs": [],
   "source": [
    "from matplotlib.pyplot import imshow\n",
    "import matplotlib.pylab as plt\n",
    "from PIL import Image\n",
    "import pandas as pd\n",
    "import os"
   ]
  },
  {
   "cell_type": "markdown",
   "metadata": {
    "id": "5fed9c29-48b2-4bbf-9ba9-7f6fc1c088a2"
   },
   "source": [
    "<!--Empty Space for separating topics-->\n"
   ]
  },
  {
   "cell_type": "markdown",
   "metadata": {
    "id": "d7b81ceb-2ff9-4e71-b0ad-bcd507f91029"
   },
   "source": [
    "<h2 id=\"data_class\">Dataset Class</h2>\n"
   ]
  },
  {
   "cell_type": "code",
   "execution_count": null,
   "metadata": {
    "colab": {
     "base_uri": "https://localhost:8080/"
    },
    "executionInfo": {
     "elapsed": 397,
     "status": "ok",
     "timestamp": 1725559406652,
     "user": {
      "displayName": "Yassine Berrada",
      "userId": "14041191240360053106"
     },
     "user_tz": -60
    },
    "id": "5DU2krwQHHgi",
    "outputId": "d3cc59bc-490f-4154-e196-b95cc47e518b"
   },
   "outputs": [
    {
     "name": "stdout",
     "output_type": "stream",
     "text": [
      "Répertoire de travail actuel : /content\n"
     ]
    }
   ],
   "source": [
    "import os\n",
    "\n",
    "# Vérifiez le répertoire de travail actuel\n",
    "current_directory = os.getcwd()\n",
    "print(f\"Répertoire de travail actuel : {current_directory}\")\n",
    "\n",
    "# Vérifiez si les répertoires existent\n",
    "positive_path = os.path.join(current_directory, \"Positive_tensors\")\n",
    "negative_path = os.path.join(current_directory, \"Negative_tensors\")\n",
    "\n",
    "if not os.path.exists(positive_path):\n",
    "    print(f\"Répertoire non trouvé : {positive_path}\")\n",
    "if not os.path.exists(negative_path):\n",
    "    print(f\"Répertoire non trouvé : {negative_path}\")\n"
   ]
  },
  {
   "cell_type": "markdown",
   "metadata": {
    "id": "8630dc80-3ee1-40a4-84d7-0427cd7101c7"
   },
   "source": [
    " This dataset class is essentially the same dataset you build in the previous section, but to speed things up, we are going to use tensors instead of jpeg images. Therefor for each iteration, we will skip the reshape step, conversion step to tensors and normalization step.\n"
   ]
  },
  {
   "cell_type": "code",
   "execution_count": null,
   "metadata": {
    "colab": {
     "base_uri": "https://localhost:8080/"
    },
    "executionInfo": {
     "elapsed": 321,
     "status": "ok",
     "timestamp": 1725559410049,
     "user": {
      "displayName": "Yassine Berrada",
      "userId": "14041191240360053106"
     },
     "user_tz": -60
    },
    "id": "4c2612bc-5ed4-4f7d-bc9d-71c6a69ce2b7",
    "outputId": "c9615943-f8a5-4e2e-e8d0-8adfce54194c"
   },
   "outputs": [
    {
     "name": "stdout",
     "output_type": "stream",
     "text": [
      "done\n"
     ]
    }
   ],
   "source": [
    "# Create your own dataset object\n",
    "\n",
    "class Dataset(Dataset):\n",
    "\n",
    "    # Constructor\n",
    "    def __init__(self,transform=None,train=True):\n",
    "        directory=\"/content\"\n",
    "        positive=\"Positive_tensors\"\n",
    "        negative='Negative_tensors'\n",
    "\n",
    "        positive_file_path=os.path.join(directory,positive)\n",
    "        negative_file_path=os.path.join(directory,negative)\n",
    "        positive_files=[os.path.join(positive_file_path,file) for file in os.listdir(positive_file_path) if file.endswith(\".pt\")]\n",
    "        negative_files=[os.path.join(negative_file_path,file) for file in os.listdir(negative_file_path) if file.endswith(\".pt\")]\n",
    "        number_of_samples=len(positive_files)+len(negative_files)\n",
    "        self.all_files=[None]*number_of_samples\n",
    "        self.all_files[::2]=positive_files\n",
    "        self.all_files[1::2]=negative_files\n",
    "        # The transform is goint to be used on image\n",
    "        self.transform = transform\n",
    "        #torch.LongTensor\n",
    "        self.Y=torch.zeros([number_of_samples]).type(torch.LongTensor)\n",
    "        self.Y[::2]=1\n",
    "        self.Y[1::2]=0\n",
    "\n",
    "        if train:\n",
    "            self.all_files=self.all_files[0:30000]\n",
    "            self.Y=self.Y[0:30000]\n",
    "            self.len=len(self.all_files)\n",
    "        else:\n",
    "            self.all_files=self.all_files[30000:]\n",
    "            self.Y=self.Y[30000:]\n",
    "            self.len=len(self.all_files)\n",
    "\n",
    "    # Get the length\n",
    "    def __len__(self):\n",
    "        return self.len\n",
    "\n",
    "    # Getter\n",
    "    def __getitem__(self, idx):\n",
    "\n",
    "        image=torch.load(self.all_files[idx])\n",
    "        y=self.Y[idx]\n",
    "\n",
    "        # If there is any transform method, apply it onto the image\n",
    "        if self.transform:\n",
    "            image = self.transform(image)\n",
    "\n",
    "        return image, y\n",
    "\n",
    "print(\"done\")"
   ]
  },
  {
   "cell_type": "markdown",
   "metadata": {
    "id": "747173bb-89d3-45e8-b058-ab209f14610c"
   },
   "source": [
    "We create two dataset objects, one for the training data and one for the validation data.\n"
   ]
  },
  {
   "cell_type": "code",
   "execution_count": null,
   "metadata": {
    "colab": {
     "base_uri": "https://localhost:8080/"
    },
    "executionInfo": {
     "elapsed": 453,
     "status": "ok",
     "timestamp": 1725559415583,
     "user": {
      "displayName": "Yassine Berrada",
      "userId": "14041191240360053106"
     },
     "user_tz": -60
    },
    "id": "0618234d-d2a4-459a-aed0-20e3803a4661",
    "outputId": "4005758c-2743-4cdd-bce5-844e033d41ed"
   },
   "outputs": [
    {
     "name": "stdout",
     "output_type": "stream",
     "text": [
      "done\n"
     ]
    }
   ],
   "source": [
    "train_dataset = Dataset(train=True)\n",
    "validation_dataset = Dataset(train=False)\n",
    "print(\"done\")"
   ]
  },
  {
   "cell_type": "markdown",
   "metadata": {
    "id": "d03d6186-c5e3-4594-b469-fc776d407fe5"
   },
   "source": [
    "<h2 id=\"Part_1\">Part 1</h2>\n"
   ]
  },
  {
   "cell_type": "markdown",
   "metadata": {
    "id": "67c3bc6f-c9ce-4bc6-98e2-160b4c2c6be3"
   },
   "source": [
    "<b>Prepare a pre-trained resnet18 model :</b>\n"
   ]
  },
  {
   "cell_type": "markdown",
   "metadata": {
    "id": "6cdd3ebc-0de2-4418-9316-a20a12ec7034"
   },
   "source": [
    "<b>Step 1</b>: Load the pre-trained model <code>resnet18</code> Set the parameter <code>pretrained</code> to true:\n"
   ]
  },
  {
   "cell_type": "code",
   "execution_count": null,
   "metadata": {
    "colab": {
     "base_uri": "https://localhost:8080/"
    },
    "executionInfo": {
     "elapsed": 706,
     "status": "ok",
     "timestamp": 1725559416686,
     "user": {
      "displayName": "Yassine Berrada",
      "userId": "14041191240360053106"
     },
     "user_tz": -60
    },
    "id": "293cde0f-d36f-4584-a1ff-d4fe736b9fb0",
    "outputId": "47ea965f-0614-499d-c351-1c6a5d84fd7f"
   },
   "outputs": [
    {
     "name": "stderr",
     "output_type": "stream",
     "text": [
      "/usr/local/lib/python3.10/dist-packages/torchvision/models/_utils.py:208: UserWarning: The parameter 'pretrained' is deprecated since 0.13 and may be removed in the future, please use 'weights' instead.\n",
      "  warnings.warn(\n",
      "/usr/local/lib/python3.10/dist-packages/torchvision/models/_utils.py:223: UserWarning: Arguments other than a weight enum or `None` for 'weights' are deprecated since 0.13 and may be removed in the future. The current behavior is equivalent to passing `weights=ResNet18_Weights.IMAGENET1K_V1`. You can also use `weights=ResNet18_Weights.DEFAULT` to get the most up-to-date weights.\n",
      "  warnings.warn(msg)\n",
      "Downloading: \"https://download.pytorch.org/models/resnet18-f37072fd.pth\" to /root/.cache/torch/hub/checkpoints/resnet18-f37072fd.pth\n",
      "100%|██████████| 44.7M/44.7M [00:00<00:00, 149MB/s]"
     ]
    },
    {
     "name": "stdout",
     "output_type": "stream",
     "text": [
      "ResNet18 model loaded with pre-trained weights.\n"
     ]
    },
    {
     "name": "stderr",
     "output_type": "stream",
     "text": [
      "\n"
     ]
    }
   ],
   "source": [
    "# Charger le modèle ResNet18 pré-entraîné\n",
    "resnet18 = models.resnet18(pretrained=True)\n",
    "\n",
    "print(\"ResNet18 model loaded with pre-trained weights.\")\n"
   ]
  },
  {
   "cell_type": "markdown",
   "metadata": {
    "id": "89b310a4-2eb5-4627-ae5e-d0783ba838ad"
   },
   "source": [
    "<b>Step 2</b>: Set the attribute <code>requires_grad</code> to <code>False</code>. As a result, the parameters will not be affected by training.\n"
   ]
  },
  {
   "cell_type": "code",
   "execution_count": null,
   "metadata": {
    "colab": {
     "base_uri": "https://localhost:8080/"
    },
    "executionInfo": {
     "elapsed": 13,
     "status": "ok",
     "timestamp": 1725559416686,
     "user": {
      "displayName": "Yassine Berrada",
      "userId": "14041191240360053106"
     },
     "user_tz": -60
    },
    "id": "22ed14f3-ded5-47a6-b667-34e9d5bc0b95",
    "outputId": "70beb2a0-7c4f-457f-aec6-b96081a43006"
   },
   "outputs": [
    {
     "name": "stdout",
     "output_type": "stream",
     "text": [
      "Set requires_grad to False for all parameters.\n"
     ]
    }
   ],
   "source": [
    "# Définir requires_grad à False pour tous les paramètres du modèle\n",
    "for param in resnet18.parameters():\n",
    "    param.requires_grad = False\n",
    "\n",
    "print(\"Set requires_grad to False for all parameters.\")\n"
   ]
  },
  {
   "cell_type": "markdown",
   "metadata": {
    "id": "03f23176-eca4-4e8f-9ec2-a164a5a7ef65"
   },
   "source": [
    "<code>resnet18</code> is used to classify 1000 different objects; as a result, the last layer has 1000 outputs.  The 512 inputs come from the fact that the previously hidden layer has 512 outputs.\n"
   ]
  },
  {
   "cell_type": "markdown",
   "metadata": {
    "id": "410287ff-6594-4af8-8acc-495106d31545"
   },
   "source": [
    "<b>Step 3</b>: Replace the output layer <code>model.fc</code> of the neural network with a <code>nn.Linear</code> object, to classify 2 different classes. For the parameters <code>in_features </code> remember the last hidden layer has 512 neurons.\n"
   ]
  },
  {
   "cell_type": "code",
   "execution_count": null,
   "metadata": {
    "colab": {
     "base_uri": "https://localhost:8080/"
    },
    "executionInfo": {
     "elapsed": 9,
     "status": "ok",
     "timestamp": 1725559416687,
     "user": {
      "displayName": "Yassine Berrada",
      "userId": "14041191240360053106"
     },
     "user_tz": -60
    },
    "id": "4f79a8c7-4e3c-48b2-8d5c-75ec66fc7b88",
    "outputId": "9abab814-2c0e-42d1-df15-31412d97253b"
   },
   "outputs": [
    {
     "name": "stdout",
     "output_type": "stream",
     "text": [
      "Replaced the output layer with a new layer for 2 classes.\n"
     ]
    }
   ],
   "source": [
    "# Remplacer la couche de sortie par une nouvelle couche pour 2 classes\n",
    "resnet18.fc = nn.Linear(in_features=512, out_features=2)\n",
    "\n",
    "print(\"Replaced the output layer with a new layer for 2 classes.\")\n"
   ]
  },
  {
   "cell_type": "markdown",
   "metadata": {
    "id": "048fe114-92ee-4c41-aede-1e016711ffcd"
   },
   "source": [
    "Print out the model in order to show whether you get the correct answer.<br> <b>\n"
   ]
  },
  {
   "cell_type": "code",
   "execution_count": null,
   "metadata": {
    "colab": {
     "base_uri": "https://localhost:8080/",
     "height": 170
    },
    "executionInfo": {
     "elapsed": 446,
     "status": "error",
     "timestamp": 1725652353844,
     "user": {
      "displayName": "Yassine Berrada",
      "userId": "14041191240360053106"
     },
     "user_tz": -60
    },
    "id": "1462f12b-da03-4175-ad74-043e46166410",
    "outputId": "b051a678-0c52-4b55-e7f5-74032fbd075d"
   },
   "outputs": [
    {
     "ename": "NameError",
     "evalue": "name 'model' is not defined",
     "output_type": "error",
     "traceback": [
      "\u001b[0;31m---------------------------------------------------------------------------\u001b[0m",
      "\u001b[0;31mNameError\u001b[0m                                 Traceback (most recent call last)",
      "\u001b[0;32m<ipython-input-1-a87813ffe34d>\u001b[0m in \u001b[0;36m<cell line: 1>\u001b[0;34m()\u001b[0m\n\u001b[0;32m----> 1\u001b[0;31m \u001b[0mprint\u001b[0m\u001b[0;34m(\u001b[0m\u001b[0mmodel\u001b[0m\u001b[0;34m)\u001b[0m\u001b[0;34m\u001b[0m\u001b[0;34m\u001b[0m\u001b[0m\n\u001b[0m",
      "\u001b[0;31mNameError\u001b[0m: name 'model' is not defined"
     ]
    }
   ],
   "source": [
    "model = resnet18\n",
    "print(model)\n"
   ]
  },
  {
   "cell_type": "markdown",
   "metadata": {
    "id": "cb183bcf-8cfa-4e48-93e8-af78f42e57b0"
   },
   "source": [
    "<h2 id=\"Part_2\">Part 2: Train the Model</h2>\n"
   ]
  },
  {
   "cell_type": "markdown",
   "metadata": {
    "id": "91768582-592a-4360-b47c-1c7db7008ff8"
   },
   "source": [
    "In this part, we will train our model:\n"
   ]
  },
  {
   "cell_type": "markdown",
   "metadata": {
    "id": "8455f1a9-a0af-4502-9179-0a4693cf06d8"
   },
   "source": [
    "<b>Step 1</b>: Create a cross entropy criterion function\n"
   ]
  },
  {
   "cell_type": "code",
   "execution_count": null,
   "metadata": {
    "colab": {
     "base_uri": "https://localhost:8080/"
    },
    "executionInfo": {
     "elapsed": 312,
     "status": "ok",
     "timestamp": 1725559419232,
     "user": {
      "displayName": "Yassine Berrada",
      "userId": "14041191240360053106"
     },
     "user_tz": -60
    },
    "id": "5263c76f-483d-42bf-9716-c526278d3fe5",
    "outputId": "aab10094-5c26-45e9-d0e2-41ee32cf05b2"
   },
   "outputs": [
    {
     "name": "stdout",
     "output_type": "stream",
     "text": [
      "Cross entropy loss function created.\n"
     ]
    }
   ],
   "source": [
    "# Step 1: Create the loss function\n",
    "\n",
    "# Créer la fonction de perte d'entropie croisée\n",
    "criterion = nn.CrossEntropyLoss()\n",
    "\n",
    "print(\"Cross entropy loss function created.\")\n"
   ]
  },
  {
   "cell_type": "markdown",
   "metadata": {
    "id": "a14f9645-a2ff-4900-91e7-4acf3eec2427"
   },
   "source": [
    "<b>Step 2</b>: Create a training loader and validation loader object, the batch size should have 100 samples each.\n"
   ]
  },
  {
   "cell_type": "code",
   "execution_count": null,
   "metadata": {
    "colab": {
     "base_uri": "https://localhost:8080/"
    },
    "executionInfo": {
     "elapsed": 347,
     "status": "ok",
     "timestamp": 1725559420668,
     "user": {
      "displayName": "Yassine Berrada",
      "userId": "14041191240360053106"
     },
     "user_tz": -60
    },
    "id": "f006c789-b1d6-4eb9-bdc4-613265ac440e",
    "outputId": "25ff2bad-54a1-40ee-923d-8e7351e89843"
   },
   "outputs": [
    {
     "name": "stdout",
     "output_type": "stream",
     "text": [
      "Training and validation DataLoader objects created.\n"
     ]
    }
   ],
   "source": [
    "# Définir la taille du batch\n",
    "batch_size = 100\n",
    "\n",
    "# Créer les objets DataLoader pour l'entraînement et la validation\n",
    "train_loader = DataLoader(dataset=train_dataset, batch_size=batch_size, shuffle=True)\n",
    "validation_loader = DataLoader(dataset=validation_dataset, batch_size=batch_size, shuffle=False)\n",
    "\n",
    "print(\"Training and validation DataLoader objects created.\")"
   ]
  },
  {
   "cell_type": "markdown",
   "metadata": {
    "id": "0a965344-294c-4f35-881b-6f3b7e938149"
   },
   "source": [
    "<b>Step 3</b>: We use the following optimizer to minimize the loss\n"
   ]
  },
  {
   "cell_type": "code",
   "execution_count": null,
   "metadata": {
    "id": "4ffbf141-4354-429f-ba64-cf0fecf4d97e"
   },
   "outputs": [],
   "source": [
    "optimizer = torch.optim.Adam([parameters  for parameters in model.parameters() if parameters.requires_grad],lr=0.001)"
   ]
  },
  {
   "cell_type": "markdown",
   "metadata": {
    "id": "278f8e4c-8cc9-477a-b291-3aedf0d0852e"
   },
   "source": [
    "<!--Empty Space for separating topics-->\n"
   ]
  },
  {
   "cell_type": "markdown",
   "metadata": {
    "id": "3a7f9e3b-f4a4-430d-92e4-2b204f4f9162"
   },
   "source": [
    "**The following code calculate the accuracy on the validation data for one epoch; this took about 1h20. We made sure to calculate the accuracy on the validation data.**\n"
   ]
  },
  {
   "cell_type": "code",
   "execution_count": null,
   "metadata": {
    "colab": {
     "base_uri": "https://localhost:8080/"
    },
    "executionInfo": {
     "elapsed": 4684109,
     "status": "ok",
     "timestamp": 1725564107642,
     "user": {
      "displayName": "Yassine Berrada",
      "userId": "14041191240360053106"
     },
     "user_tz": -60
    },
    "id": "e10db4f0-56f4-4c94-940f-133f5764ef04",
    "outputId": "bfe8f526-708d-41e6-8490-2970dc7d18a9"
   },
   "outputs": [
    {
     "name": "stderr",
     "output_type": "stream",
     "text": [
      "<ipython-input-11-cb2b5af1a11b>:42: FutureWarning: You are using `torch.load` with `weights_only=False` (the current default value), which uses the default pickle module implicitly. It is possible to construct malicious pickle data which will execute arbitrary code during unpickling (See https://github.com/pytorch/pytorch/blob/main/SECURITY.md#untrusted-models for more details). In a future release, the default value for `weights_only` will be flipped to `True`. This limits the functions that could be executed during unpickling. Arbitrary objects will no longer be allowed to be loaded via this mode unless they are explicitly allowlisted by the user via `torch.serialization.add_safe_globals`. We recommend you start setting `weights_only=True` for any use case where you don't have full control of the loaded file. Please open an issue on GitHub for any issues related to this experimental feature.\n",
      "  image=torch.load(self.all_files[idx])\n"
     ]
    },
    {
     "name": "stdout",
     "output_type": "stream",
     "text": [
      "Epoch 1, Loss: 0.04950591176748276, Accuracy: 0.9939\n",
      "Training and validation completed in 4683.74 seconds.\n"
     ]
    }
   ],
   "source": [
    "n_epochs = 1\n",
    "loss_list = []\n",
    "accuracy_list = []\n",
    "correct = 0\n",
    "N_test = len(validation_dataset)\n",
    "N_train = len(train_dataset)\n",
    "start_time = time.time()\n",
    "\n",
    "# Pour suivre le temps de début de l'entraînement\n",
    "start_time = time.time()\n",
    "\n",
    "for epoch in range(n_epochs):\n",
    "    model.train()  # Mettre le modèle en mode entraînement\n",
    "    for x, y in train_loader:\n",
    "\n",
    "        # Step 1: Clear the gradients\n",
    "        optimizer.zero_grad()\n",
    "\n",
    "        # Step 2: Make a prediction\n",
    "        yhat = model(x)\n",
    "\n",
    "        # Step 3: Calculate loss\n",
    "        loss = criterion(yhat, y)\n",
    "\n",
    "        # Step 4: Calculate gradients of parameters\n",
    "        loss.backward()\n",
    "\n",
    "        # Step 5: Update parameters\n",
    "        optimizer.step()\n",
    "\n",
    "        # Append the loss\n",
    "        loss_list.append(loss.item())\n",
    "\n",
    "    # Validation phase\n",
    "    model.eval()  # Mettre le modèle en mode évaluation\n",
    "    correct = 0  # Réinitialiser le compteur de corrects pour l'epoch\n",
    "\n",
    "    for x_test, y_test in validation_loader:\n",
    "        # Step 1: Make a prediction\n",
    "        yhat = model(x_test)\n",
    "\n",
    "        # Step 2: Find the max\n",
    "        _, yhat_max = torch.max(yhat, 1)\n",
    "\n",
    "        # Step 3: Calculate misclassified samples in mini-batch\n",
    "        correct += (yhat_max == y_test).sum().item()\n",
    "\n",
    "    # Calculer la précision\n",
    "    accuracy = correct / N_test\n",
    "    accuracy_list.append(accuracy)\n",
    "    print(f\"Epoch {epoch+1}, Loss: {loss.item()}, Accuracy: {accuracy:.4f}\")\n",
    "\n",
    "end_time = time.time()\n",
    "print(f\"Training and validation completed in {end_time - start_time:.2f} seconds.\")\n"
   ]
  },
  {
   "cell_type": "markdown",
   "metadata": {
    "id": "176f3003-c65d-40bc-96ad-5c9c48c99f3b"
   },
   "source": []
  },
  {
   "cell_type": "code",
   "execution_count": null,
   "metadata": {
    "colab": {
     "base_uri": "https://localhost:8080/"
    },
    "executionInfo": {
     "elapsed": 11,
     "status": "ok",
     "timestamp": 1725564107642,
     "user": {
      "displayName": "Yassine Berrada",
      "userId": "14041191240360053106"
     },
     "user_tz": -60
    },
    "id": "f321eee5-544b-4659-839f-0e6ea591d09d",
    "outputId": "9abd1276-d74d-42da-815f-3064700fdb20"
   },
   "outputs": [
    {
     "data": {
      "text/plain": [
       "0.9939"
      ]
     },
     "execution_count": 22,
     "metadata": {},
     "output_type": "execute_result"
    }
   ],
   "source": [
    "accuracy"
   ]
  },
  {
   "cell_type": "code",
   "execution_count": null,
   "metadata": {
    "colab": {
     "base_uri": "https://localhost:8080/",
     "height": 450
    },
    "executionInfo": {
     "elapsed": 953,
     "status": "ok",
     "timestamp": 1725564108589,
     "user": {
      "displayName": "Yassine Berrada",
      "userId": "14041191240360053106"
     },
     "user_tz": -60
    },
    "id": "3c7ae1d7-abbd-4e21-b0f2-9e45b967a1b6",
    "outputId": "2a05521a-e9fb-49e0-94e1-5bbc3f6cf795"
   },
   "outputs": [
    {
     "data": {
      "image/png": "[encoded data removed]",
      "text/plain": [
       "<Figure size 640x480 with 1 Axes>"
      ]
     },
     "metadata": {},
     "output_type": "display_data"
    }
   ],
   "source": [
    "plt.plot(loss_list)\n",
    "plt.xlabel(\"iteration\")\n",
    "plt.ylabel(\"loss\")\n",
    "plt.show()\n"
   ]
  },
  {
   "cell_type": "markdown",
   "metadata": {
    "id": "a7f1f6bc-f2ba-4b06-9109-7778966e1379"
   },
   "source": [
    "<h2 id=\"Part_3\">Part 3:Find the misclassified samples</h2>\n"
   ]
  },
  {
   "cell_type": "markdown",
   "metadata": {
    "id": "4a78f947-6f88-4871-8005-d5732cd8e2d9"
   },
   "source": [
    "<b>Identify the first four misclassified samples using the validation data:</b>\n"
   ]
  },
  {
   "cell_type": "code",
   "execution_count": null,
   "metadata": {
    "colab": {
     "base_uri": "https://localhost:8080/",
     "height": 1000
    },
    "executionInfo": {
     "elapsed": 33996,
     "status": "ok",
     "timestamp": 1725564378708,
     "user": {
      "displayName": "Yassine Berrada",
      "userId": "14041191240360053106"
     },
     "user_tz": -60
    },
    "id": "6d0864db-4423-447e-b379-407e707efb43",
    "outputId": "256b398e-8987-4897-ee24-ad74b37a30d8"
   },
   "outputs": [
    {
     "name": "stderr",
     "output_type": "stream",
     "text": [
      "<ipython-input-11-cb2b5af1a11b>:42: FutureWarning: You are using `torch.load` with `weights_only=False` (the current default value), which uses the default pickle module implicitly. It is possible to construct malicious pickle data which will execute arbitrary code during unpickling (See https://github.com/pytorch/pytorch/blob/main/SECURITY.md#untrusted-models for more details). In a future release, the default value for `weights_only` will be flipped to `True`. This limits the functions that could be executed during unpickling. Arbitrary objects will no longer be allowed to be loaded via this mode unless they are explicitly allowlisted by the user via `torch.serialization.add_safe_globals`. We recommend you start setting `weights_only=True` for any use case where you don't have full control of the loaded file. Please open an issue on GitHub for any issues related to this experimental feature.\n",
      "  image=torch.load(self.all_files[idx])\n",
      "WARNING:matplotlib.image:Clipping input data to the valid range for imshow with RGB data ([0..1] for floats or [0..255] for integers).\n"
     ]
    },
    {
     "name": "stdout",
     "output_type": "stream",
     "text": [
      "Échantillon 1: Prédiction incorrecte: 1, Étiquette réelle: 0\n"
     ]
    },
    {
     "data": {
      "image/png": "[encoded data removed]",
      "text/plain": [
       "<Figure size 200x200 with 1 Axes>"
      ]
     },
     "metadata": {},
     "output_type": "display_data"
    },
    {
     "name": "stderr",
     "output_type": "stream",
     "text": [
      "WARNING:matplotlib.image:Clipping input data to the valid range for imshow with RGB data ([0..1] for floats or [0..255] for integers).\n"
     ]
    },
    {
     "name": "stdout",
     "output_type": "stream",
     "text": [
      "Échantillon 2: Prédiction incorrecte: 0, Étiquette réelle: 1\n"
     ]
    },
    {
     "data": {
      "image/png": "[encoded data removed]",
      "text/plain": [
       "<Figure size 200x200 with 1 Axes>"
      ]
     },
     "metadata": {},
     "output_type": "display_data"
    },
    {
     "name": "stderr",
     "output_type": "stream",
     "text": [
      "WARNING:matplotlib.image:Clipping input data to the valid range for imshow with RGB data ([0..1] for floats or [0..255] for integers).\n"
     ]
    },
    {
     "name": "stdout",
     "output_type": "stream",
     "text": [
      "Échantillon 3: Prédiction incorrecte: 0, Étiquette réelle: 1\n"
     ]
    },
    {
     "data": {
      "image/png": "[encoded data removed]",
      "text/plain": [
       "<Figure size 200x200 with 1 Axes>"
      ]
     },
     "metadata": {},
     "output_type": "display_data"
    },
    {
     "name": "stderr",
     "output_type": "stream",
     "text": [
      "WARNING:matplotlib.image:Clipping input data to the valid range for imshow with RGB data ([0..1] for floats or [0..255] for integers).\n"
     ]
    },
    {
     "name": "stdout",
     "output_type": "stream",
     "text": [
      "Échantillon 4: Prédiction incorrecte: 1, Étiquette réelle: 0\n"
     ]
    },
    {
     "data": {
      "image/png": "[encoded data removed]",
      "text/plain": [
       "<Figure size 200x200 with 1 Axes>"
      ]
     },
     "metadata": {},
     "output_type": "display_data"
    }
   ],
   "source": [
    "# Étape pour trouver les quatre premiers échantillons mal classifiés\n",
    "misclassified_samples = []  # Liste pour stocker les échantillons mal classifiés\n",
    "misclassified_labels = []   # Liste pour stocker les étiquettes correspondantes\n",
    "misclassified_predictions = []  # Liste pour stocker les prédictions mal classifiées\n",
    "\n",
    "model.eval()  # Mettre le modèle en mode évaluation\n",
    "\n",
    "# Boucle à travers les données de validation\n",
    "for x_test, y_test in validation_loader:\n",
    "    # Faire une prédiction\n",
    "    yhat = model(x_test)\n",
    "\n",
    "    # Trouver les indices des prédictions les plus probables\n",
    "    _, yhat_max = torch.max(yhat, 1)\n",
    "\n",
    "    # Identifier les échantillons mal classifiés\n",
    "    for i in range(len(y_test)):\n",
    "        if yhat_max[i] != y_test[i]:\n",
    "            misclassified_samples.append(x_test[i])\n",
    "            misclassified_labels.append(y_test[i].item())\n",
    "            misclassified_predictions.append(yhat_max[i].item())\n",
    "\n",
    "            # Si nous avons trouvé les quatre premiers échantillons mal classifiés, arrêter la recherche\n",
    "            if len(misclassified_samples) >= 4:\n",
    "                break\n",
    "\n",
    "    # Sortir de la boucle externe si nous avons trouvé les quatre premiers échantillons mal classifiés\n",
    "    if len(misclassified_samples) >= 4:\n",
    "        break\n",
    "\n",
    "# Affichage des quatre premiers échantillons mal classifiés\n",
    "for idx, (sample, label, prediction) in enumerate(zip(misclassified_samples, misclassified_labels, misclassified_predictions)):\n",
    "    print(f\"Échantillon {idx+1}: Prédiction incorrecte: {prediction}, Étiquette réelle: {label}\")\n",
    "\n",
    "    # Afficher l'image de l'échantillon mal classifié\n",
    "    plt.figure(figsize=(2, 2))\n",
    "    plt.imshow(sample.permute(1, 2, 0).cpu().numpy())  # Convertir l'image du format Tensor à NumPy et permuter les dimensions\n",
    "    plt.title(f\"Prédiction: {prediction}, Réel: {label}\")\n",
    "    plt.show()\n"
   ]
  },
  {
   "cell_type": "markdown",
   "metadata": {
    "id": "8NYDFk3iq8JM"
   },
   "source": [
    "## Continue\n",
    "\n"
   ]
  },
  {
   "cell_type": "markdown",
   "metadata": {
    "id": "1YQPe8Krq8JN"
   },
   "source": [
    "In this project, we will build an image classifier using the VGG16 pre-trained model, and we will evaluate it and compare its performance to the model we built in the last module using the ResNet50 pre-trained model."
   ]
  },
  {
   "cell_type": "markdown",
   "metadata": {
    "id": "k3IH7gpkq8JN"
   },
   "source": [
    "## Table of Contents\n",
    "\n",
    "<div class=\"alert alert-block alert-info\" style=\"margin-top: 20px\">\n",
    "\n",
    "<font size = 3>    \n",
    "\n",
    "1. <a href=\"#item41\">Download Data\n",
    "2. <a href=\"#item42\">Part 1</a>\n",
    "3. <a href=\"#item43\">Part 2</a>  \n",
    "4. <a href=\"#item44\">Part 3</a>  \n",
    "\n",
    "</font>\n",
    "    \n",
    "</div>"
   ]
  },
  {
   "cell_type": "markdown",
   "metadata": {
    "id": "6LeUqViVq8JO"
   },
   "source": [
    "<a id=\"item41\"></a>"
   ]
  },
  {
   "cell_type": "markdown",
   "metadata": {
    "id": "_rpB36QKq8JO"
   },
   "source": [
    "## Download Data"
   ]
  },
  {
   "cell_type": "markdown",
   "metadata": {
    "id": "oKCQbYO2q8JO"
   },
   "source": [
    "We use the <code>wget</code> command to download the data for this assignment from here: https://s3-api.us-geo.objectstorage.softlayer.net/cf-courses-data/CognitiveClass/DL0321EN/data/concrete_data_week4.zip"
   ]
  },
  {
   "cell_type": "markdown",
   "metadata": {
    "id": "0Y8a4hUvq8JO"
   },
   "source": [
    "We use the following cells to download the data."
   ]
  },
  {
   "cell_type": "code",
   "execution_count": null,
   "metadata": {
    "colab": {
     "base_uri": "https://localhost:8080/"
    },
    "id": "SzsmiqB4q8JP",
    "outputId": "b1c51b3c-c1cb-4095-cd83-857f3a2f66f7"
   },
   "outputs": [
    {
     "name": "stdout",
     "output_type": "stream",
     "text": [
      "--2024-09-06 19:31:55--  https://s3-api.us-geo.objectstorage.softlayer.net/cf-courses-data/CognitiveClass/DL0321EN/data/concrete_data_week4.zip\n",
      "Resolving s3-api.us-geo.objectstorage.softlayer.net (s3-api.us-geo.objectstorage.softlayer.net)... 67.228.254.196\n",
      "Connecting to s3-api.us-geo.objectstorage.softlayer.net (s3-api.us-geo.objectstorage.softlayer.net)|67.228.254.196|:443... connected.\n",
      "HTTP request sent, awaiting response... 200 OK\n",
      "Length: 261483817 (249M) [application/zip]\n",
      "Saving to: ‘concrete_data_week4.zip’\n",
      "\n",
      "concrete_data_week4 100%[===================>] 249.37M  13.6MB/s    in 20s     \n",
      "\n",
      "2024-09-06 19:32:16 (12.7 MB/s) - ‘concrete_data_week4.zip’ saved [261483817/261483817]\n",
      "\n"
     ]
    }
   ],
   "source": [
    "!wget https://s3-api.us-geo.objectstorage.softlayer.net/cf-courses-data/CognitiveClass/DL0321EN/data/concrete_data_week4.zip"
   ]
  },
  {
   "cell_type": "code",
   "execution_count": null,
   "metadata": {
    "id": "2UfO2jmoq8JP"
   },
   "outputs": [],
   "source": [
    "!unzip -q concrete_data_week4.zip"
   ]
  },
  {
   "cell_type": "markdown",
   "metadata": {
    "id": "GO8KYTkqq8JQ"
   },
   "source": [
    "After we unzipped the data, we find that the data has already been divided into a train, validation, and test sets."
   ]
  },
  {
   "cell_type": "markdown",
   "metadata": {
    "id": "uegJN3CYq8JQ"
   },
   "source": [
    "<a id=\"item42\"></a>"
   ]
  },
  {
   "cell_type": "markdown",
   "metadata": {
    "id": "uU1fJRQbq8JQ"
   },
   "source": [
    "## Part 1"
   ]
  },
  {
   "cell_type": "markdown",
   "metadata": {
    "id": "8xTZgaBrq8JQ"
   },
   "source": [
    "In this part, we will design a classifier using the VGG16 pre-trained model. Just like the ResNet50 model, we will import the model <code>VGG16</code> from <code>keras.applications</code>."
   ]
  },
  {
   "cell_type": "markdown",
   "metadata": {
    "id": "5hKRcIJ5q8JR"
   },
   "source": [
    "We will essentially build your classifier as follows:\n",
    "1. Import libraries, modules, and packages you will need. Make sure to import the *preprocess_input* function from <code>keras.applications.vgg16</code>.\n",
    "2. Use a batch size of 100 images for both training and validation.\n",
    "3. Construct an ImageDataGenerator for the training set and another one for the validation set. VGG16 was originally trained on 224 × 224 images, so make sure to address that when defining the ImageDataGenerator instances.\n",
    "4. Create a sequential model using Keras. Add VGG16 model to it and dense layer.\n",
    "5. Compile the mode using the adam optimizer and the categorical_crossentropy loss function.\n",
    "6. Fit the model on the augmented data using the ImageDataGenerators."
   ]
  },
  {
   "cell_type": "markdown",
   "metadata": {
    "id": "Bo-a6CQPq8JR"
   },
   "source": [
    "We use the following cells to create your classifier."
   ]
  },
  {
   "cell_type": "code",
   "execution_count": null,
   "metadata": {
    "id": "8VEmOmUaq8JR"
   },
   "outputs": [],
   "source": [
    "from tensorflow.keras.applications import VGG16\n",
    "from tensorflow.keras.applications.vgg16 import preprocess_input\n",
    "from tensorflow.keras.preprocessing.image import ImageDataGenerator\n",
    "from tensorflow.keras.models import Sequential\n",
    "from tensorflow.keras.layers import Dense, Flatten\n",
    "from tensorflow.keras.optimizers import Adam"
   ]
  },
  {
   "cell_type": "code",
   "execution_count": null,
   "metadata": {
    "id": "x7cu2W9jq8JR"
   },
   "outputs": [],
   "source": [
    "batch_size = 100  # Taille des lots pour l'entraînement et la validation"
   ]
  },
  {
   "cell_type": "code",
   "execution_count": null,
   "metadata": {
    "colab": {
     "base_uri": "https://localhost:8080/"
    },
    "id": "kEs2ynD1tqQn",
    "outputId": "6c23fe2f-a402-4304-caf3-cf3095e0005b"
   },
   "outputs": [
    {
     "name": "stdout",
     "output_type": "stream",
     "text": [
      "Répertoire d'entraînement trouvé : True\n",
      "Répertoire de validation trouvé : False\n"
     ]
    }
   ],
   "source": [
    "import os\n",
    "\n",
    "# Vérifier l'existence des répertoires\n",
    "train_dir = 'concrete_data_week4/train'\n",
    "val_dir = 'concrete_data_week4/val'\n",
    "\n",
    "print(\"Répertoire d'entraînement trouvé :\", os.path.exists(train_dir))\n",
    "print(\"Répertoire de validation trouvé :\", os.path.exists(val_dir))\n"
   ]
  },
  {
   "cell_type": "code",
   "execution_count": null,
   "metadata": {
    "colab": {
     "base_uri": "https://localhost:8080/"
    },
    "id": "32xwtcREuE7D",
    "outputId": "7be7231c-4bca-4d29-9f9b-f53d8ba6910a"
   },
   "outputs": [
    {
     "name": "stdout",
     "output_type": "stream",
     "text": [
      "['.DS_Store', 'train', 'valid', 'test']\n"
     ]
    }
   ],
   "source": [
    "# Lister le contenu du dossier concrete_data_week4\n",
    "print(os.listdir('concrete_data_week4'))\n"
   ]
  },
  {
   "cell_type": "code",
   "execution_count": null,
   "metadata": {
    "colab": {
     "base_uri": "https://localhost:8080/"
    },
    "id": "bFsooZerq8JS",
    "outputId": "89ed3da0-8d3f-496b-ff67-40f71d8dba49",
    "scrolled": true
   },
   "outputs": [
    {
     "name": "stdout",
     "output_type": "stream",
     "text": [
      "Found 30001 images belonging to 2 classes.\n",
      "Found 9501 images belonging to 2 classes.\n"
     ]
    }
   ],
   "source": [
    "train_datagen = ImageDataGenerator(preprocessing_function=preprocess_input)\n",
    "val_datagen = ImageDataGenerator(preprocessing_function=preprocess_input)\n",
    "\n",
    "# Chargement des données d'entraînement\n",
    "train_generator = train_datagen.flow_from_directory(\n",
    "    'concrete_data_week4/train',\n",
    "    target_size=(224, 224),\n",
    "    batch_size=batch_size,\n",
    "    class_mode='categorical'\n",
    ")\n",
    "\n",
    "# Chargement des données de validation\n",
    "val_generator = val_datagen.flow_from_directory(\n",
    "    'concrete_data_week4/valid',  # Chemin correct pour le répertoire de validation\n",
    "    target_size=(224, 224),\n",
    "    batch_size=batch_size,\n",
    "    class_mode='categorical'\n",
    ")\n"
   ]
  },
  {
   "cell_type": "code",
   "execution_count": null,
   "metadata": {
    "colab": {
     "base_uri": "https://localhost:8080/"
    },
    "id": "p6XQTY6uq8JS",
    "outputId": "3268d98f-9e2e-47dc-c615-3c2ef768a09b"
   },
   "outputs": [
    {
     "name": "stdout",
     "output_type": "stream",
     "text": [
      "Downloading data from https://storage.googleapis.com/tensorflow/keras-applications/vgg16/vgg16_weights_tf_dim_ordering_tf_kernels_notop.h5\n",
      "\u001b[1m58889256/58889256\u001b[0m \u001b[32m━━━━━━━━━━━━━━━━━━━━\u001b[0m\u001b[37m\u001b[0m \u001b[1m3s\u001b[0m 0us/step\n"
     ]
    }
   ],
   "source": [
    "# Charger le modèle pré-entraîné VGG16 sans les couches de classification finales\n",
    "vgg16_base = VGG16(weights='imagenet', include_top=False, input_shape=(224, 224, 3))\n",
    "\n",
    "# Créer un modèle séquentiel\n",
    "model = Sequential()\n",
    "\n",
    "# Ajouter le modèle VGG16 comme base\n",
    "model.add(vgg16_base)\n",
    "\n",
    "# Aplatir les caractéristiques extraites\n",
    "model.add(Flatten())\n",
    "\n",
    "# Ajouter une couche dense pour la classification\n",
    "model.add(Dense(2, activation='softmax'))  # 2 classes pour classification binaire"
   ]
  },
  {
   "cell_type": "code",
   "execution_count": null,
   "metadata": {
    "id": "fKs2wZQ0q8JS"
   },
   "outputs": [],
   "source": [
    "model.compile(optimizer=Adam(), loss='categorical_crossentropy', metrics=['accuracy'])"
   ]
  },
  {
   "cell_type": "code",
   "execution_count": null,
   "metadata": {
    "colab": {
     "background_save": true,
     "base_uri": "https://localhost:8080/"
    },
    "id": "vRi7Anp-q8JS",
    "outputId": "357ebb82-cdb4-48e9-a633-2b6e00dab497"
   },
   "outputs": [
    {
     "name": "stdout",
     "output_type": "stream",
     "text": [
      "Epoch 1/3\n"
     ]
    },
    {
     "name": "stderr",
     "output_type": "stream",
     "text": [
      "/usr/local/lib/python3.10/dist-packages/keras/src/trainers/data_adapters/py_dataset_adapter.py:121: UserWarning: Your `PyDataset` class should call `super().__init__(**kwargs)` in its constructor. `**kwargs` can include `workers`, `use_multiprocessing`, `max_queue_size`. Do not pass these arguments to `fit()`, as they will be ignored.\n",
      "  self._warn_if_super_not_called()\n"
     ]
    },
    {
     "name": "stdout",
     "output_type": "stream",
     "text": [
      "\u001b[1m 51/300\u001b[0m \u001b[32m━━━\u001b[0m\u001b[37m━━━━━━━━━━━━━━━━━\u001b[0m \u001b[1m14:29:24\u001b[0m 209s/step - accuracy: 0.5982 - loss: 8.0890"
     ]
    }
   ],
   "source": [
    "history = model.fit(\n",
    "    train_generator,\n",
    "    steps_per_epoch=train_generator.samples // batch_size,\n",
    "    validation_data=val_generator,\n",
    "    validation_steps=val_generator.samples // batch_size,\n",
    "    epochs=3\n",
    ")"
   ]
  },
  {
   "cell_type": "markdown",
   "metadata": {
    "id": "hUlAwhd_q8JT"
   },
   "source": [
    "<a id=\"item43\"></a>"
   ]
  },
  {
   "cell_type": "markdown",
   "metadata": {
    "id": "SFzd5EkCq8JT"
   },
   "source": [
    "## Part 2"
   ]
  },
  {
   "cell_type": "markdown",
   "metadata": {
    "id": "7UsU8bqkq8JT"
   },
   "source": [
    "In this part, we will evaluate your deep learning models on a test data. For this part, we will need to do the following:\n",
    "\n",
    "1. Load your saved model that was built using the ResNet50 model.\n",
    "2. Construct an ImageDataGenerator for the test set. For this ImageDataGenerator instance, you only need to pass the directory of the test images, target size, and the **shuffle** parameter and set it to False.\n",
    "3. Use the **evaluate_generator** method to evaluate your models on the test data, by passing the above ImageDataGenerator as an argument. You can learn more about **evaluate_generator** [here](https://keras.io/models/sequential/).\n",
    "4. Print the performance of the classifier using the VGG16 pre-trained model.\n",
    "5. Print the performance of the classifier using the ResNet pre-trained model.\n"
   ]
  },
  {
   "cell_type": "markdown",
   "metadata": {
    "id": "z4VOmDzvq8JU"
   },
   "source": [
    "We use the following cells to evaluate our models."
   ]
  },
  {
   "cell_type": "code",
   "execution_count": null,
   "metadata": {
    "id": "VxHvHzyYq8JU"
   },
   "outputs": [],
   "source": [
    "from keras.models import loa  d_model\n",
    "\n",
    "# Charger le modèle sauvegardé basé sur ResNet50\n",
    "resnet50_model = load_model('path_to_saved_resnet50_model.h5')  # Remplacez par le chemin correct"
   ]
  },
  {
   "cell_type": "code",
   "execution_count": null,
   "metadata": {
    "id": "VMjK6ke4q8JU"
   },
   "outputs": [],
   "source": [
    "test_datagen = ImageDataGenerator()\n",
    "\n",
    "# Générer les données de test\n",
    "test_generator = test_datagen.flow_from_directory(\n",
    "    'concrete_data_week4/test',  # Remplacez par le chemin correct\n",
    "    target_size=(224, 224),\n",
    "    batch_size=100,\n",
    "    shuffle=False,\n",
    "    class_mode='categorical'\n",
    ")"
   ]
  },
  {
   "cell_type": "code",
   "execution_count": null,
   "metadata": {
    "id": "KgQjI80lq8JU"
   },
   "outputs": [],
   "source": [
    "# Évaluer le modèle VGG16 sur les données de test\n",
    "vgg16_evaluation = model.evaluate(test_generator, steps=test_generator.samples // 100)\n",
    "print(f\"Performance du modèle VGG16 - Perte : {vgg16_evaluation[0]}, Précision : {vgg16_evaluation[1]}\")"
   ]
  },
  {
   "cell_type": "code",
   "execution_count": null,
   "metadata": {
    "id": "FI7tbO5oq8JU"
   },
   "outputs": [],
   "source": [
    "# Évaluer le modèle ResNet50 sur les données de test\n",
    "resnet50_evaluation = resnet50_model.evaluate(test_generator, steps=test_generator.samples // 100)\n",
    "print(f\"Performance du modèle ResNet50 - Perte : {resnet50_evaluation[0]}, Précision : {resnet50_evaluation[1]}\")"
   ]
  },
  {
   "cell_type": "markdown",
   "metadata": {
    "id": "8hW_5LI6q8JV"
   },
   "source": [
    "   "
   ]
  },
  {
   "cell_type": "markdown",
   "metadata": {
    "id": "Ht0npylhq8JV"
   },
   "source": [
    "<a id=\"item44\"></a>"
   ]
  },
  {
   "cell_type": "markdown",
   "metadata": {
    "id": "DHzdQOGDq8JW"
   },
   "source": [
    "## Part 3"
   ]
  },
  {
   "cell_type": "markdown",
   "metadata": {
    "id": "DigBCzPQq8JW"
   },
   "source": [
    "In this model, we will predict whether the images in the test data are images of cracked concrete or not. we will do the following:\n",
    "\n",
    "1. Use the **predict_generator** method to predict the class of the images in the test data, by passing the test data ImageDataGenerator instance defined in the previous part as an argument. You can learn more about the **predict_generator** method [here](https://keras.io/models/sequential/).\n",
    "2. Report the class predictions of the first five images in the test set. You should print something list this:\n",
    "\n",
    "<center>\n",
    "    <ul style=\"list-style-type:none\">\n",
    "        <li>Positive</li>  \n",
    "        <li>Negative</li>\n",
    "        <li>Positive</li>\n",
    "        <li>Positive</li>\n",
    "        <li>Negative</li>\n",
    "    </ul>\n",
    "</center>"
   ]
  },
  {
   "cell_type": "markdown",
   "metadata": {
    "id": "asV513sxq8JW"
   },
   "source": [
    "Use the following cells to make your predictions."
   ]
  },
  {
   "cell_type": "code",
   "execution_count": null,
   "metadata": {
    "id": "f39qkBJtq8JX"
   },
   "outputs": [],
   "source": [
    "# Faire des prédictions sur les données de test avec le modèle VGG16\n",
    "vgg16_predictions = model.predict(test_generator, steps=test_generator.samples // 100)\n",
    "\n",
    "# Prendre les 5 premières prédictions\n",
    "vgg16_predicted_classes = vgg16_predictions.argmax(axis=-1)[:5]\n",
    "\n",
    "# Afficher les prédictions pour les 5 premières images\n",
    "for pred in vgg16_predicted_classes:\n",
    "    if pred == 0:\n",
    "        print(\"Negative\")\n",
    "    else:\n",
    "        print(\"Positive\")"
   ]
  },
  {
   "cell_type": "code",
   "execution_count": null,
   "metadata": {
    "id": "T5Ywk6gqq8JX"
   },
   "outputs": [],
   "source": [
    "# Faire des prédictions sur les données de test avec le modèle ResNet50\n",
    "resnet50_predictions = resnet50_model.predict(test_generator, steps=test_generator.samples // 100)\n",
    "\n",
    "# Prendre les 5 premières prédictions\n",
    "resnet50_predicted_classes = resnet50_predictions.argmax(axis=-1)[:5]\n",
    "\n",
    "# Afficher les prédictions pour les 5 premières images\n",
    "for pred in resnet50_predicted_classes:\n",
    "    if pred == 0:\n",
    "        print(\"Negative\")\n",
    "    else:\n",
    "        print(\"Positive\")"
   ]
  }
 ],
 "metadata": {
  "accelerator": "GPU",
  "colab": {
   "gpuType": "T4",
   "provenance": []
  },
  "kernelspec": {
   "display_name": "Python 3",
   "name": "python3"
  },
  "language_info": {
   "name": "python"
  }
 },
 "nbformat": 4,
 "nbformat_minor": 0
}
